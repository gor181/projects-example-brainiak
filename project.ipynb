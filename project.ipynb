{
 "cells": [
  {
   "cell_type": "markdown",
   "metadata": {},
   "source": [
    "# Introduction to DataCamp Projects"
   ]
  },
  {
   "cell_type": "code",
   "execution_count": null,
   "metadata": {},
   "outputs": [],
   "source": [
    "%load_ext ipython_nose\n",
    "# Learning RSA. The dataset is from Kriegeskorte (2007). We have one subject data in matlab file format. \n",
    "# The data is for 6 conditions:\n",
    "#    1.'artificial inanimate', 2.'human bodypart', 3.'human face', 4.'natural inanimate', 5.'nonhuman bodypart',\n",
    "# 6. 'nonhuman face'.\n",
    "# We will import this data into BrainIAK and process it.\n",
    "#By this stage, you should have completed motion correction and any other required pre-processing on the data.\n",
    "#First we'll import python libraries that will be used in this script.\n",
    "#The package nibabel has methods to read in fMRI data into python arrays.\n",
    "#import nibabel as nib\n",
    "import numpy as np\n",
    "#from nilearn.input_data import NiftiMasker\n",
    "import scipy.io\n",
    "from scipy import stats\n",
    "\n",
    "# We'll use matplotlib for plotting\n",
    "import matplotlib.pyplot as plt\n",
    "%matplotlib inline\n",
    "from pylab import pcolor, show, colorbar, xticks, yticks\n",
    "from sklearn import manifold"
   ]
  },
  {
   "cell_type": "markdown",
   "metadata": {
    "tags": [
     "type:NotebookTask",
     "key: 1d0b086e6c"
    ]
   },
   "source": [
    "## Introduction"
   ]
  },
  {
   "cell_type": "markdown",
   "metadata": {
    "tags": [
     "@context"
    ]
   },
   "source": [
    "Introduction to Project\n",
    "============="
   ]
  },
  {
   "cell_type": "markdown",
   "metadata": {
    "inputHidden": false,
    "outputHidden": false,
    "tags": [
     "@instructions"
    ]
   },
   "source": [
    "This is example instruction text\n",
    "\n",
    "<hr/>\n",
    "\n",
    "For your first task: \n",
    "\n",
    "- thing 1 \n",
    "- thing 2\n",
    "- thing 3"
   ]
  },
  {
   "cell_type": "markdown",
   "metadata": {
    "tags": [
     "@hint"
    ]
   },
   "source": [
    "You don't really need a hint for this task! Just click the Next Task button below. "
   ]
  },
  {
   "cell_type": "code",
   "execution_count": null,
   "metadata": {
    "collapsed": true,
    "tags": [
     "@solution"
    ]
   },
   "outputs": [],
   "source": []
  },
  {
   "cell_type": "code",
   "execution_count": null,
   "metadata": {
    "collapsed": true,
    "tags": [
     "@sample_code"
    ]
   },
   "outputs": [],
   "source": [
    "# import scipy.io\n",
    "dir = 'datasets/';\n",
    "data = scipy.io.loadmat(dir + 'BE_roi_data.mat')\n",
    "roi_data = data['roi_data']\n",
    "roi_names = data['roinames']\n",
    "\n",
    "# Check to see if the data was imported correctly.\n",
    "print(roi_data[0,1])"
   ]
  },
  {
   "cell_type": "code",
   "execution_count": null,
   "metadata": {
    "collapsed": true,
    "tags": [
     "@tests"
    ]
   },
   "outputs": [],
   "source": [
    "%%nose\n",
    "def test_default():\n",
    "  assert True"
   ]
  },
  {
   "cell_type": "markdown",
   "metadata": {
    "tags": [
     "type:NotebookTask",
     "key:044b2cef41"
    ]
   },
   "source": [
    "## Reading Data"
   ]
  },
  {
   "cell_type": "markdown",
   "metadata": {
    "tags": [
     "@context"
    ]
   },
   "source": [
    "Context\n",
    "--------------"
   ]
  },
  {
   "cell_type": "markdown",
   "metadata": {
    "tags": [
     "@instructions"
    ]
   },
   "source": [
    "Instructions\n",
    "-----------"
   ]
  },
  {
   "cell_type": "markdown",
   "metadata": {
    "tags": [
     "@hint"
    ]
   },
   "source": [
    "Navigate to the cell containing code and press `Shift + Enter` to execute it."
   ]
  },
  {
   "cell_type": "code",
   "execution_count": null,
   "metadata": {
    "tags": [
     "@solution"
    ]
   },
   "outputs": [],
   "source": []
  },
  {
   "cell_type": "code",
   "execution_count": null,
   "metadata": {
    "collapsed": true,
    "tags": [
     "@sample_code"
    ]
   },
   "outputs": [],
   "source": [
    "# Creating data arrays for the different ROIs (Left/Right FFA and PPA)\n",
    "lffa_data=np.array(roi_data[0,0])\n",
    "rffa_data=np.array(roi_data[0,1])\n",
    "lppa_data=np.array(roi_data[0,4])\n",
    "rppa_data=np.array(roi_data[0,5])\n",
    "labels = np.array(data['labels'])\n",
    "\n",
    "#It is always a good idea to plot the data imported as a sanity check before starting analysis. \n",
    "#We will plot the fMRI time-series for one voxel from the imported data. Using your favorite fMRI package, you should\n",
    "#also view the same time-series (for the same voxel)\n",
    "#and it should look identical to what is plotted below. In this case I compared it to a plot from MATLAB for the\n",
    "# same voxel.\n",
    "#We'll call matplotlib functions for plotting.\n",
    "\n",
    "plt.figure(figsize=(7, 5))\n",
    "plt.plot(rffa_data[:,0])\n",
    "plt.xlabel('Stimuli', fontsize=16)\n",
    "plt.ylabel('t-Value', fontsize=16)\n",
    "plt.xlim(0, 100)\n",
    "plt.subplots_adjust(bottom=.12, top=.95, right=.95, left=.12)\n",
    "\n",
    "# I am also plotting the labels in orange to give a sense of what categories the t-values correspond to.\n",
    "# The label numbers correspond to entries in the variable data['categoryNames']\n",
    "#    1.'artificial inanimate', 2.'human bodypart', 3.'human face', 4.'natural inanimate', 5.'nonhuman bodypart',\n",
    "# 6. 'nonhuman face'.\n",
    "\n",
    "plt.plot(labels)\n",
    "plt.show()"
   ]
  },
  {
   "cell_type": "code",
   "execution_count": null,
   "metadata": {
    "collapsed": true,
    "tags": [
     "@tests"
    ]
   },
   "outputs": [],
   "source": [
    "%%nose\n",
    "def test_colors_exists():\n",
    "    pass"
   ]
  }
 ],
 "metadata": {
  "anaconda-cloud": {},
  "celltoolbar": "Tags",
  "kernel_info": {
   "name": "python3"
  },
  "kernelspec": {
   "display_name": "Python [Root]",
   "language": "python",
   "name": "Python [Root]"
  },
  "language_info": {
   "codemirror_mode": {
    "name": "ipython",
    "version": 3
   },
   "file_extension": ".py",
   "mimetype": "text/x-python",
   "name": "python",
   "nbconvert_exporter": "python",
   "pygments_lexer": "ipython3",
   "version": "3.5.2"
  }
 },
 "nbformat": 4,
 "nbformat_minor": 4
}
