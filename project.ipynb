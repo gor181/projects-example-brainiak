{
 "cells": [
  {
   "cell_type": "markdown",
   "metadata": {},
   "source": [
    "# Introduction to DataCamp Projects"
   ]
  },
  {
   "cell_type": "code",
   "execution_count": 35,
   "metadata": {},
   "outputs": [
    {
     "name": "stdout",
     "output_type": "stream",
     "text": [
      "The ipython_nose extension is already loaded. To reload it, use:\n",
      "  %reload_ext ipython_nose\n"
     ]
    }
   ],
   "source": [
    "%load_ext ipython_nose\n",
    "import matplotlib.pyplot as plt\n",
    "plt.style.use('seaborn')\n",
    "import pytablewriter\n",
    "def df_to_md(df):\n",
    "  writer = pytablewriter.MarkdownTableWriter()\n",
    "  writer.table_name = \"\"\n",
    "  writer.header_list = list(df.columns.values)\n",
    "  writer.value_matrix = df.values.tolist()\n",
    "  writer.write_table()"
   ]
  },
  {
   "cell_type": "markdown",
   "metadata": {
    "tags": [
     "type:NotebookTask",
     "key: 1d0b086e6c"
    ]
   },
   "source": [
    "## Introduction"
   ]
  },
  {
   "cell_type": "markdown",
   "metadata": {
    "tags": [
     "@context"
    ]
   },
   "source": [
    "Everyone loves Lego (unless you ever stepped on one). Did you know by the way that \"Lego\" was derived from the Danish phrase leg godt, which means \"play well\"? Unless you speak Danish, probably not. \n",
    "\n",
    "In this project, we will analyze a fascinating dataset on every single lego block that has ever been built!\n",
    "\n",
    "![lego](https://s3.amazonaws.com/assets.datacamp.com/projects/lego/lego-bricks.jpeg)"
   ]
  },
  {
   "cell_type": "code",
   "execution_count": 36,
   "metadata": {
    "collapsed": true,
    "tags": [
     "@solution"
    ]
   },
   "outputs": [],
   "source": [
    "# Nothing to do here!"
   ]
  },
  {
   "cell_type": "markdown",
   "metadata": {
    "inputHidden": false,
    "outputHidden": false,
    "tags": [
     "@instructions"
    ]
   },
   "source": [
    "In this __Introduction to Projects__, you will learn how DataCamp projects work and familiarize yourself with the interface.\n",
    "\n",
    "__Projects__ allow you to practice and apply the skills you've learned in the DataCamp [courses](https://www.datacamp.com/courses). In each project you carry out an __end-to-end analysis__, on a __real-world task__, using __real-world__ tools and workflows. The best thing is that we automatically check your work. At the end of a project, you can download your result and __showcase__ your work. \n",
    "\n",
    "<hr/>\n",
    "\n",
    "For your first task: \n",
    "\n",
    "- Read the first paragraph on the right to familiarize yourself with the topic of your project!\n",
    "- Feel free to poke around the interface. \n",
    "- When you are finished, click on the __Next Task__ button at the bottom.  "
   ]
  },
  {
   "cell_type": "code",
   "execution_count": 37,
   "metadata": {
    "collapsed": true,
    "tags": [
     "@tests"
    ]
   },
   "outputs": [
    {
     "data": {
      "application/json": "{\"success\": true, \"summary\": {\"tests\": 1, \"failures\": 0, \"errors\": 0}, \"tests\": [{\"name\": \"test_default\", \"success\": true, \"message\": \"\"}]}"
     },
     "metadata": {},
     "output_type": "display_data"
    },
    {
     "data": {
      "text/plain": [
       "1/1 tests passed\n"
      ]
     },
     "execution_count": 37,
     "metadata": {},
     "output_type": "execute_result"
    }
   ],
   "source": [
    "%%nose\n",
    "def test_default():\n",
    "  assert True"
   ]
  },
  {
   "cell_type": "code",
   "execution_count": 38,
   "metadata": {
    "collapsed": true,
    "tags": [
     "@sample_code"
    ]
   },
   "outputs": [],
   "source": [
    "# Nothing to do here"
   ]
  },
  {
   "cell_type": "markdown",
   "metadata": {
    "tags": [
     "@hint"
    ]
   },
   "source": [
    "You don't really need a hint for this task! Just click the Next Task button below. "
   ]
  },
  {
   "cell_type": "markdown",
   "metadata": {
    "tags": [
     "type:NotebookTask",
     "key:044b2cef41"
    ]
   },
   "source": [
    "## Reading Data"
   ]
  },
  {
   "cell_type": "markdown",
   "metadata": {
    "tags": [
     "@context"
    ]
   },
   "source": [
    "This comprehensive database of lego blocks is provided by [Rebrickable](https://rebrickable.com/downloads/). The data is available as csv files and the schema is shown below.\n",
    "\n",
    "![schema](https://s3.amazonaws.com/assets.datacamp.com/projects/lego/downloads_schema.png)\n",
    "\n",
    "Let us start by reading in the colors data to get a sense of the diversity of lego sets!"
   ]
  },
  {
   "cell_type": "code",
   "execution_count": 39,
   "metadata": {
    "tags": [
     "@solution"
    ]
   },
   "outputs": [
    {
     "data": {
      "text/html": [
       "<div>\n",
       "<style>\n",
       "    .dataframe thead tr:only-child th {\n",
       "        text-align: right;\n",
       "    }\n",
       "\n",
       "    .dataframe thead th {\n",
       "        text-align: left;\n",
       "    }\n",
       "\n",
       "    .dataframe tbody tr th {\n",
       "        vertical-align: top;\n",
       "    }\n",
       "</style>\n",
       "<table border=\"1\" class=\"dataframe\">\n",
       "  <thead>\n",
       "    <tr style=\"text-align: right;\">\n",
       "      <th></th>\n",
       "      <th>id</th>\n",
       "      <th>name</th>\n",
       "      <th>rgb</th>\n",
       "      <th>is_trans</th>\n",
       "    </tr>\n",
       "  </thead>\n",
       "  <tbody>\n",
       "    <tr>\n",
       "      <th>0</th>\n",
       "      <td>-1</td>\n",
       "      <td>Unknown</td>\n",
       "      <td>0033B2</td>\n",
       "      <td>f</td>\n",
       "    </tr>\n",
       "    <tr>\n",
       "      <th>1</th>\n",
       "      <td>0</td>\n",
       "      <td>Black</td>\n",
       "      <td>05131D</td>\n",
       "      <td>f</td>\n",
       "    </tr>\n",
       "    <tr>\n",
       "      <th>2</th>\n",
       "      <td>1</td>\n",
       "      <td>Blue</td>\n",
       "      <td>0055BF</td>\n",
       "      <td>f</td>\n",
       "    </tr>\n",
       "    <tr>\n",
       "      <th>3</th>\n",
       "      <td>2</td>\n",
       "      <td>Green</td>\n",
       "      <td>237841</td>\n",
       "      <td>f</td>\n",
       "    </tr>\n",
       "    <tr>\n",
       "      <th>4</th>\n",
       "      <td>3</td>\n",
       "      <td>Dark Turquoise</td>\n",
       "      <td>008F9B</td>\n",
       "      <td>f</td>\n",
       "    </tr>\n",
       "  </tbody>\n",
       "</table>\n",
       "</div>"
      ],
      "text/plain": [
       "   id            name     rgb is_trans\n",
       "0  -1         Unknown  0033B2        f\n",
       "1   0           Black  05131D        f\n",
       "2   1            Blue  0055BF        f\n",
       "3   2           Green  237841        f\n",
       "4   3  Dark Turquoise  008F9B        f"
      ]
     },
     "execution_count": 39,
     "metadata": {},
     "output_type": "execute_result"
    }
   ],
   "source": [
    "# Import modules\n",
    "import pandas as pd\n",
    "\n",
    "# Read colors data\n",
    "colors = pd.read_csv('datasets/colors.csv')\n",
    "\n",
    "# Print the first few rows\n",
    "colors.head()"
   ]
  },
  {
   "cell_type": "code",
   "execution_count": 40,
   "metadata": {
    "collapsed": true,
    "tags": [
     "@tests"
    ]
   },
   "outputs": [
    {
     "data": {
      "application/json": "{\"success\": true, \"summary\": {\"tests\": 1, \"failures\": 0, \"errors\": 0}, \"tests\": [{\"name\": \"test_colors_exists\", \"success\": true, \"message\": \"\"}]}"
     },
     "metadata": {},
     "output_type": "display_data"
    },
    {
     "data": {
      "text/plain": [
       "1/1 tests passed\n"
      ]
     },
     "execution_count": 40,
     "metadata": {},
     "output_type": "execute_result"
    }
   ],
   "source": [
    "%%nose\n",
    "def test_colors_exists():\n",
    "    assert 'colors' in globals(), \"You should read the data into a variable named `colors`\""
   ]
  },
  {
   "cell_type": "markdown",
   "metadata": {
    "tags": [
     "@instructions"
    ]
   },
   "source": [
    "Your project interface consists of a __jupyter notebook__ on the right and the __instructional sidebar__ on the left.\n",
    "\n",
    "1. The  [Jupyter Notebook](https://www.datacamp.com/community/tutorials/tutorial-jupyter-notebook) contains the main narrative for the project. It contains the story you will be working on, supported by all the code you write, and the output tables and plots, that you will create.\n",
    "\n",
    "2. The __instructional sidebar__ contains `instructions`, `hints`, and other pedagogical elements that will aid you in you in your quest to complete your project successfully and come up with a newsworthy story! This portion of the interface works almost the same way as courses.\n",
    "\n",
    "<hr/>\n",
    "\n",
    "For your second task:\n",
    "\n",
    "- Shift your attention to the content on top of the notebook. \n",
    "- Read the section under __Reading Data__ to understand the narrative. \n",
    "- Once you reach the box/cell containing the Python code, click on it, press `Ctrl + Enter`, and notice what happens!\n",
    "- When you are finished, click on the __Next Task__ button at the bottom."
   ]
  },
  {
   "cell_type": "code",
   "execution_count": 41,
   "metadata": {
    "collapsed": true,
    "tags": [
     "@sample_code"
    ]
   },
   "outputs": [
    {
     "data": {
      "text/html": [
       "<div>\n",
       "<style>\n",
       "    .dataframe thead tr:only-child th {\n",
       "        text-align: right;\n",
       "    }\n",
       "\n",
       "    .dataframe thead th {\n",
       "        text-align: left;\n",
       "    }\n",
       "\n",
       "    .dataframe tbody tr th {\n",
       "        vertical-align: top;\n",
       "    }\n",
       "</style>\n",
       "<table border=\"1\" class=\"dataframe\">\n",
       "  <thead>\n",
       "    <tr style=\"text-align: right;\">\n",
       "      <th></th>\n",
       "      <th>id</th>\n",
       "      <th>name</th>\n",
       "      <th>rgb</th>\n",
       "      <th>is_trans</th>\n",
       "    </tr>\n",
       "  </thead>\n",
       "  <tbody>\n",
       "    <tr>\n",
       "      <th>0</th>\n",
       "      <td>-1</td>\n",
       "      <td>Unknown</td>\n",
       "      <td>0033B2</td>\n",
       "      <td>f</td>\n",
       "    </tr>\n",
       "    <tr>\n",
       "      <th>1</th>\n",
       "      <td>0</td>\n",
       "      <td>Black</td>\n",
       "      <td>05131D</td>\n",
       "      <td>f</td>\n",
       "    </tr>\n",
       "    <tr>\n",
       "      <th>2</th>\n",
       "      <td>1</td>\n",
       "      <td>Blue</td>\n",
       "      <td>0055BF</td>\n",
       "      <td>f</td>\n",
       "    </tr>\n",
       "    <tr>\n",
       "      <th>3</th>\n",
       "      <td>2</td>\n",
       "      <td>Green</td>\n",
       "      <td>237841</td>\n",
       "      <td>f</td>\n",
       "    </tr>\n",
       "    <tr>\n",
       "      <th>4</th>\n",
       "      <td>3</td>\n",
       "      <td>Dark Turquoise</td>\n",
       "      <td>008F9B</td>\n",
       "      <td>f</td>\n",
       "    </tr>\n",
       "  </tbody>\n",
       "</table>\n",
       "</div>"
      ],
      "text/plain": [
       "   id            name     rgb is_trans\n",
       "0  -1         Unknown  0033B2        f\n",
       "1   0           Black  05131D        f\n",
       "2   1            Blue  0055BF        f\n",
       "3   2           Green  237841        f\n",
       "4   3  Dark Turquoise  008F9B        f"
      ]
     },
     "execution_count": 41,
     "metadata": {},
     "output_type": "execute_result"
    }
   ],
   "source": [
    "# Import modules\n",
    "import pandas as pd\n",
    "\n",
    "# Read colors data\n",
    "colors = pd.read_csv('datasets/colors.csv')\n",
    "\n",
    "# Print the first few rows\n",
    "colors.head()"
   ]
  },
  {
   "cell_type": "markdown",
   "metadata": {
    "tags": [
     "@hint"
    ]
   },
   "source": [
    "Navigate to the cell containing code and press `Shift + Enter` to execute it."
   ]
  },
  {
   "cell_type": "markdown",
   "metadata": {
    "tags": [
     "type:NotebookTask",
     "key:15c1e2ce38"
    ]
   },
   "source": [
    "## Exploring Colors"
   ]
  },
  {
   "cell_type": "markdown",
   "metadata": {
    "tags": [
     "@context"
    ]
   },
   "source": [
    "Now that we have read the `colors` data, we can start exploring it! Let us start by understanding the number of colors available."
   ]
  },
  {
   "cell_type": "code",
   "execution_count": 42,
   "metadata": {
    "collapsed": true,
    "tags": [
     "@solution"
    ]
   },
   "outputs": [
    {
     "name": "stdout",
     "output_type": "stream",
     "text": [
      "Number of distinct colors: 135\n"
     ]
    }
   ],
   "source": [
    "# How many distinct colors are available?\n",
    "num_colors = colors.rgb.size\n",
    "print(\"Number of distinct colors:\", num_colors)"
   ]
  },
  {
   "cell_type": "code",
   "execution_count": 43,
   "metadata": {
    "collapsed": true,
    "tags": [
     "@tests"
    ]
   },
   "outputs": [
    {
     "data": {
      "application/json": "{\"success\": true, \"summary\": {\"tests\": 1, \"failures\": 0, \"errors\": 0}, \"tests\": [{\"name\": \"test_num_colors\", \"success\": true, \"message\": \"\"}]}"
     },
     "metadata": {},
     "output_type": "display_data"
    },
    {
     "data": {
      "text/plain": [
       "1/1 tests passed\n"
      ]
     },
     "execution_count": 43,
     "metadata": {},
     "output_type": "execute_result"
    }
   ],
   "source": [
    "%%nose\n",
    "def test_num_colors():\n",
    "    assert num_colors == 135, \"The variable num_colors should equal 135\""
   ]
  },
  {
   "cell_type": "markdown",
   "metadata": {
    "tags": [
     "@instructions"
    ]
   },
   "source": [
    "If this is your first brush with [Jupyter Notebooks](https://www.datacamp.com/community/tutorials/tutorial-jupyter-notebook), continue reading this. Otherwise, go and dig into the notebook directly to explore lego blocks, and build your narrative! \n",
    "\n",
    "As you might have already noticed, doing data science in the real world is all about building an interesting story around your data. As a result, your narrative around the data is as important as the code you write, and the outputs you generate. Jupyter Notebooks provide an awesome environment that allows you to do precisely this by combining text, code and outputs into one single document.\n",
    "\n",
    "![jupyter-notebook](https://s3.amazonaws.com/assets.datacamp.com/projects/lego/notebook_inline.png)\n",
    "\n",
    "<hr/>\n",
    "\n",
    "In this task, you will \n",
    "\n",
    "- Create a variable named `num_colors` that counts the number of distinct colors. \n",
    "- Print it out.\n",
    "\n",
    "You need to provide your code in the cell that says \"-- YOUR CODE FOR TASK 3 --\". Once you are ready, click Next Task again. "
   ]
  },
  {
   "cell_type": "code",
   "execution_count": 44,
   "metadata": {
    "collapsed": true,
    "tags": [
     "@sample_code"
    ]
   },
   "outputs": [],
   "source": [
    "# How many distinct colors are available?\n",
    "# -- YOUR CODE FOR TASK 3 --"
   ]
  },
  {
   "cell_type": "markdown",
   "metadata": {
    "tags": [
     "@hint"
    ]
   },
   "source": [
    "You can inspect the dimensions of `colors` using `colors.shape`."
   ]
  },
  {
   "cell_type": "markdown",
   "metadata": {
    "tags": [
     "type:NotebookTask",
     "key:a5723ae5c2"
    ]
   },
   "source": [
    "## Transparent Colors in Lego Sets"
   ]
  },
  {
   "cell_type": "markdown",
   "metadata": {
    "tags": [
     "@context"
    ]
   },
   "source": [
    "The `colors` data has a column named `is_trans` that indicates whether a color is transparent or not. It would be interesting to explore the distribution of transparent vs. non-transparent colors."
   ]
  },
  {
   "cell_type": "code",
   "execution_count": 45,
   "metadata": {
    "collapsed": true,
    "tags": [
     "@solution"
    ]
   },
   "outputs": [
    {
     "data": {
      "text/html": [
       "<div>\n",
       "<style>\n",
       "    .dataframe thead tr:only-child th {\n",
       "        text-align: right;\n",
       "    }\n",
       "\n",
       "    .dataframe thead th {\n",
       "        text-align: left;\n",
       "    }\n",
       "\n",
       "    .dataframe tbody tr th {\n",
       "        vertical-align: top;\n",
       "    }\n",
       "</style>\n",
       "<table border=\"1\" class=\"dataframe\">\n",
       "  <thead>\n",
       "    <tr style=\"text-align: right;\">\n",
       "      <th></th>\n",
       "      <th>id</th>\n",
       "      <th>name</th>\n",
       "      <th>rgb</th>\n",
       "    </tr>\n",
       "    <tr>\n",
       "      <th>is_trans</th>\n",
       "      <th></th>\n",
       "      <th></th>\n",
       "      <th></th>\n",
       "    </tr>\n",
       "  </thead>\n",
       "  <tbody>\n",
       "    <tr>\n",
       "      <th>f</th>\n",
       "      <td>107</td>\n",
       "      <td>107</td>\n",
       "      <td>107</td>\n",
       "    </tr>\n",
       "    <tr>\n",
       "      <th>t</th>\n",
       "      <td>28</td>\n",
       "      <td>28</td>\n",
       "      <td>28</td>\n",
       "    </tr>\n",
       "  </tbody>\n",
       "</table>\n",
       "</div>"
      ],
      "text/plain": [
       "           id  name  rgb\n",
       "is_trans                \n",
       "f         107   107  107\n",
       "t          28    28   28"
      ]
     },
     "execution_count": 45,
     "metadata": {},
     "output_type": "execute_result"
    }
   ],
   "source": [
    "# Summarize colors based on whether they are transparent or not?\n",
    "colors_summary = colors.groupby(\"is_trans\", as_index = True).count()\n",
    "colors_summary"
   ]
  },
  {
   "cell_type": "code",
   "execution_count": 46,
   "metadata": {
    "collapsed": true,
    "tags": [
     "@tests"
    ]
   },
   "outputs": [
    {
     "data": {
      "application/json": "{\"success\": true, \"summary\": {\"tests\": 2, \"failures\": 0, \"errors\": 0}, \"tests\": [{\"name\": \"test_colors_summary_exists\", \"success\": true, \"message\": \"\"}, {\"name\": \"test_colors_summary\", \"success\": true, \"message\": \"\"}]}"
     },
     "metadata": {},
     "output_type": "display_data"
    },
    {
     "data": {
      "text/plain": [
       "2/2 tests passed\n"
      ]
     },
     "execution_count": 46,
     "metadata": {},
     "output_type": "execute_result"
    }
   ],
   "source": [
    "%%nose\n",
    "def test_colors_summary_exists():\n",
    "    assert 'colors_summary' in globals(), \"You should have defined a variable named `colors_summary`\"\n",
    "def test_colors_summary():\n",
    "    assert colors_summary.shape == (2, 3), \"The DataFrame colors_summary should contain 2 rows and 3 columns\""
   ]
  },
  {
   "cell_type": "markdown",
   "metadata": {
    "tags": [
     "@instructions"
    ]
   },
   "source": [
    "A Jupyter Notebook consists of cells, each of which can contain code or markdown text. Jupyter Notebooks support code in multiple languages (like R, Python, Julia etc.), using a system of kernels. This notebook connects to a Python 3 kernel, and hence allows us to write Python code!  In this task, we will explore how to add a new cell to the notebook, write some python code to support the narrative, and execute it. Are you ready?\n",
    "\n",
    "A picture is worth a thousand words. So instead of describing how to work with cells in a notebook, here is an animated gif to walk you through the steps.\n",
    "\n",
    "![Working with Cells](https://s3.amazonaws.com/assets.datacamp.com/projects/lego/adding-cells.gif)\n",
    "\n",
    "You can read more about notebooks in this [comprehensive tutorial](https://www.datacamp.com/community/tutorials/tutorial-jupyter-notebook).\n",
    "\n",
    "<hr/>\n",
    "\n",
    "In this task, you will:\n",
    "\n",
    "- Summarize colors based on their transparency.\n",
    "- Save the result as a variable named `colors_summary`.\n",
    "- Print out `colors_summary`.\n",
    "\n",
    "Executing your code should result in the table shown below.\n",
    "\n",
    "\n",
    "|is_trans|id |name|rgb|\n",
    "|--------|--:|---:|--:|\n",
    "|f       |107| 107|107|\n",
    "|t       | 28|  28| 28|\n",
    "\n",
    "Additionally,\n",
    "\n",
    "- Insert a new cell by clicking on `Insert > Insert Cell Below`\n",
    "- Change its type to `markdown` using the toolbar on the top of the notebook.\n",
    "- Enter some text (in markdown) to share something interesting about the output table above it.\n",
    "\n",
    "After you have completed this task, feel free to play around with adding new cells, editing them, modifying their type, executing code, etc. Explore as much as you want to, and when you are ready click on `Next Task` to move on to the next task."
   ]
  },
  {
   "cell_type": "code",
   "execution_count": 47,
   "metadata": {
    "collapsed": true,
    "tags": [
     "@sample_code"
    ]
   },
   "outputs": [],
   "source": [
    "# colors_summary: Distribution of colors based on transparency\n",
    "# -- YOUR CODE FOR TASK 4 --"
   ]
  },
  {
   "cell_type": "markdown",
   "metadata": {
    "tags": [
     "@hint"
    ]
   },
   "source": [
    "Shown below is some code to help you complete this task!\n",
    "\n",
    "```python\n",
    "# Summarize colors based on whether they are transparent or not?\n",
    "colors_summary = colors.___(___).count()\n",
    "colors_summary\n",
    "```"
   ]
  },
  {
   "cell_type": "markdown",
   "metadata": {
    "tags": [
     "type:NotebookTask",
     "key:c9d0e58653"
    ]
   },
   "source": [
    "## Explore Lego Sets"
   ]
  },
  {
   "cell_type": "markdown",
   "metadata": {
    "tags": [
     "@context"
    ]
   },
   "source": [
    "Another interesting dataset available in this database is the `sets` data. It contains a comprehensive list of sets over the years and the number of parts that each of these sets contained. \n",
    "\n",
    "![sets_data](https://imgur.com/1k4PoXs.png)\n",
    "\n",
    "Let us use this data to explore how the average number of parts in lego sets has varied over the years."
   ]
  },
  {
   "cell_type": "code",
   "execution_count": 48,
   "metadata": {
    "collapsed": true,
    "tags": [
     "@solution"
    ]
   },
   "outputs": [
    {
     "data": {
      "text/html": [
       "<div>\n",
       "<style>\n",
       "    .dataframe thead tr:only-child th {\n",
       "        text-align: right;\n",
       "    }\n",
       "\n",
       "    .dataframe thead th {\n",
       "        text-align: left;\n",
       "    }\n",
       "\n",
       "    .dataframe tbody tr th {\n",
       "        vertical-align: top;\n",
       "    }\n",
       "</style>\n",
       "<table border=\"1\" class=\"dataframe\">\n",
       "  <thead>\n",
       "    <tr style=\"text-align: right;\">\n",
       "      <th></th>\n",
       "      <th>year</th>\n",
       "      <th>num_parts</th>\n",
       "    </tr>\n",
       "  </thead>\n",
       "  <tbody>\n",
       "    <tr>\n",
       "      <th>0</th>\n",
       "      <td>1950</td>\n",
       "      <td>10.142857</td>\n",
       "    </tr>\n",
       "    <tr>\n",
       "      <th>1</th>\n",
       "      <td>1953</td>\n",
       "      <td>16.500000</td>\n",
       "    </tr>\n",
       "    <tr>\n",
       "      <th>2</th>\n",
       "      <td>1954</td>\n",
       "      <td>12.357143</td>\n",
       "    </tr>\n",
       "    <tr>\n",
       "      <th>3</th>\n",
       "      <td>1955</td>\n",
       "      <td>36.857143</td>\n",
       "    </tr>\n",
       "    <tr>\n",
       "      <th>4</th>\n",
       "      <td>1956</td>\n",
       "      <td>18.500000</td>\n",
       "    </tr>\n",
       "  </tbody>\n",
       "</table>\n",
       "</div>"
      ],
      "text/plain": [
       "   year  num_parts\n",
       "0  1950  10.142857\n",
       "1  1953  16.500000\n",
       "2  1954  12.357143\n",
       "3  1955  36.857143\n",
       "4  1956  18.500000"
      ]
     },
     "execution_count": 48,
     "metadata": {},
     "output_type": "execute_result"
    },
    {
     "data": {
      "image/png": "[encoded data removed]",
      "text/plain": [
       "<matplotlib.figure.Figure at 0x116317860>"
      ]
     },
     "metadata": {},
     "output_type": "display_data"
    }
   ],
   "source": [
    "%matplotlib inline\n",
    "sets = pd.read_csv('datasets/sets.csv')\n",
    "parts_by_year = sets[['year', 'num_parts']].\\\n",
    "  groupby('year', as_index = False).\\\n",
    "  mean()\n",
    "parts_by_year.head()\n",
    "parts_by_year.plot(x = 'year', y = 'num_parts')\n",
    "parts_by_year.head()"
   ]
  },
  {
   "cell_type": "code",
   "execution_count": 49,
   "metadata": {
    "collapsed": true,
    "tags": [
     "@tests"
    ]
   },
   "outputs": [
    {
     "data": {
      "application/json": "{\"success\": true, \"summary\": {\"tests\": 2, \"failures\": 0, \"errors\": 0}, \"tests\": [{\"name\": \"test_sets_exists\", \"success\": true, \"message\": \"\"}, {\"name\": \"test_parts_by_year_exists\", \"success\": true, \"message\": \"\"}]}"
     },
     "metadata": {},
     "output_type": "display_data"
    },
    {
     "data": {
      "text/plain": [
       "2/2 tests passed\n"
      ]
     },
     "execution_count": 49,
     "metadata": {},
     "output_type": "execute_result"
    }
   ],
   "source": [
    "%%nose\n",
    "def test_sets_exists():\n",
    "    assert 'sets' in globals(), \"You should read the data into a variable named `sets`\"\n",
    "def test_parts_by_year_exists():\n",
    "    assert 'parts_by_year' in globals(), \"You should have defined a variable named `parts_by_year`\""
   ]
  },
  {
   "cell_type": "markdown",
   "metadata": {
    "tags": [
     "@instructions"
    ]
   },
   "source": [
    "Every DataCamp project is broken down into a number of smaller tasks. You are now already in task 5. Well done! \n",
    "\n",
    "In order to complete a task, you will need to:\n",
    "    \n",
    "1. Read the narrative in the notebook to understand the scope of the task.\n",
    "2. Read the instructions in the sidebar to get more details on what is expected.\n",
    "3. Write code in the notebook and run it by by pressing `Ctrl + Enter`, or clicking on the Run icon in the toolbar. \n",
    "\n",
    "Let us follow these steps to complete this task.\n",
    "\n",
    "<hr/>\n",
    "\n",
    "In this task, you will:\n",
    "\n",
    "\n",
    "- Read the data in `datasets/sets.csv` as a `DataFrame` named `sets`.\n",
    "- Create a summary of the average parts per year and save it as `parts_per_year`.\n",
    "- Plot the average number of parts per year.\n",
    "\n",
    "The first few rows of `parts_per_year` should resemble the table shown below:\n",
    "\n",
    "\n",
    "|year|num_parts|\n",
    "|---:|--------:|\n",
    "|1950|    10.14|\n",
    "|1953|    16.50|\n",
    "|1954|    12.36|\n",
    "|1955|    36.86|\n",
    "|1956|    18.50|\n"
   ]
  },
  {
   "cell_type": "code",
   "execution_count": 50,
   "metadata": {},
   "outputs": [
    {
     "name": "stdout",
     "output_type": "stream",
     "text": [
      "|year|num_parts|\n",
      "|---:|--------:|\n",
      "|1950|    10.14|\n",
      "|1953|    16.50|\n",
      "|1954|    12.36|\n",
      "|1955|    36.86|\n",
      "|1956|    18.50|\n",
      "\n"
     ]
    }
   ],
   "source": [
    "df_to_md(parts_by_year.head())"
   ]
  },
  {
   "cell_type": "code",
   "execution_count": 51,
   "metadata": {
    "collapsed": true,
    "tags": [
     "@sample_code"
    ]
   },
   "outputs": [],
   "source": [
    "%matplotlib inline\n",
    "# Read sets data as `sets`\n",
    "\n",
    "# Create a summary of average number of parts by year: `parts_by_year`\n",
    "\n",
    "# Plot trends in average number of parts by year\n",
    "\n"
   ]
  },
  {
   "cell_type": "markdown",
   "metadata": {
    "tags": [
     "@hint"
    ]
   },
   "source": [
    "Shown below is some code to help you complete this task!\n",
    "\n",
    "```python\n",
    "sets = pd.___(___)\n",
    "parts_by_year = sets[['year', 'num_parts']].\\\n",
    "  ___(___, as_index = False).\\\n",
    "  ___()\n",
    "parts_by_year.plot(x = ___, y = ___)\n",
    "```"
   ]
  },
  {
   "cell_type": "markdown",
   "metadata": {
    "tags": [
     "type:NotebookTask",
     "key:266a3f390c"
    ]
   },
   "source": [
    "## Lego Themes Over Years"
   ]
  },
  {
   "cell_type": "markdown",
   "metadata": {
    "tags": [
     "@context"
    ]
   },
   "source": [
    "Lego blocks ship under multiple [themes](https://shop.lego.com/en-US/Themes). Let us try to get a sense of how the number of themes shipped has varied over the years."
   ]
  },
  {
   "cell_type": "code",
   "execution_count": 52,
   "metadata": {
    "collapsed": true,
    "tags": [
     "@solution"
    ]
   },
   "outputs": [
    {
     "data": {
      "text/html": [
       "<div>\n",
       "<style>\n",
       "    .dataframe thead tr:only-child th {\n",
       "        text-align: right;\n",
       "    }\n",
       "\n",
       "    .dataframe thead th {\n",
       "        text-align: left;\n",
       "    }\n",
       "\n",
       "    .dataframe tbody tr th {\n",
       "        vertical-align: top;\n",
       "    }\n",
       "</style>\n",
       "<table border=\"1\" class=\"dataframe\">\n",
       "  <thead>\n",
       "    <tr style=\"text-align: right;\">\n",
       "      <th></th>\n",
       "      <th>year</th>\n",
       "      <th>theme_id</th>\n",
       "    </tr>\n",
       "  </thead>\n",
       "  <tbody>\n",
       "    <tr>\n",
       "      <th>0</th>\n",
       "      <td>1950</td>\n",
       "      <td>2</td>\n",
       "    </tr>\n",
       "    <tr>\n",
       "      <th>1</th>\n",
       "      <td>1953</td>\n",
       "      <td>1</td>\n",
       "    </tr>\n",
       "    <tr>\n",
       "      <th>2</th>\n",
       "      <td>1954</td>\n",
       "      <td>2</td>\n",
       "    </tr>\n",
       "    <tr>\n",
       "      <th>3</th>\n",
       "      <td>1955</td>\n",
       "      <td>4</td>\n",
       "    </tr>\n",
       "    <tr>\n",
       "      <th>4</th>\n",
       "      <td>1956</td>\n",
       "      <td>3</td>\n",
       "    </tr>\n",
       "  </tbody>\n",
       "</table>\n",
       "</div>"
      ],
      "text/plain": [
       "   year  theme_id\n",
       "0  1950         2\n",
       "1  1953         1\n",
       "2  1954         2\n",
       "3  1955         4\n",
       "4  1956         3"
      ]
     },
     "execution_count": 52,
     "metadata": {},
     "output_type": "execute_result"
    }
   ],
   "source": [
    "# themes_by_year: Number of themes shipped by year\n",
    "themes_by_year = sets[['year', 'theme_id']].\\\n",
    "  groupby('year', as_index = False).\\\n",
    "  agg({\"theme_id\": pd.Series.nunique})\n",
    "themes_by_year.head()"
   ]
  },
  {
   "cell_type": "code",
   "execution_count": 53,
   "metadata": {
    "collapsed": true,
    "tags": [
     "@tests"
    ]
   },
   "outputs": [
    {
     "data": {
      "application/json": "{\"success\": true, \"summary\": {\"tests\": 3, \"failures\": 0, \"errors\": 0}, \"tests\": [{\"name\": \"test_themes_by_year_exists\", \"success\": true, \"message\": \"\"}, {\"name\": \"test_themes_by_year\", \"success\": true, \"message\": \"\"}, {\"name\": \"test_themes_by_year_names\", \"success\": true, \"message\": \"\"}]}"
     },
     "metadata": {},
     "output_type": "display_data"
    },
    {
     "data": {
      "text/plain": [
       "3/3 tests passed\n"
      ]
     },
     "execution_count": 53,
     "metadata": {},
     "output_type": "execute_result"
    }
   ],
   "source": [
    "%%nose\n",
    "def test_themes_by_year_exists():\n",
    "    assert 'themes_by_year' in globals(), \"You should have defined a variable named `themes_by_year`\"\n",
    "def test_themes_by_year():\n",
    "    assert themes_by_year.shape == (66, 2), \"The DataFrame themes_by_year should contain 66 rows and 2 columns\"\n",
    "def test_themes_by_year_names():\n",
    "    colnames = ['year', 'theme_id']\n",
    "    assert all(name in themes_by_year for name in colnames), \"Your DataFrame, bnames, should have columns named: year, theme_id\""
   ]
  },
  {
   "cell_type": "markdown",
   "metadata": {
    "tags": [
     "@instructions"
    ]
   },
   "source": [
    "At any point in the project, you can click on the __Check Project__ button at the bottom to test whether your output matches the solution.\n",
    "\n",
    "- If all the tests pass, your task circles on the left will turn green. \n",
    "- If some tests fail, the incorrect tasks will turn orange. \n",
    "\n",
    "You can view the test results in the sidebar to understand what failed and update your code accordingly. If you are unable to get all the tests to pass despite repeated attempts, you can click on the __Hint__ button to get a useful hint.\n",
    "\n",
    "<hr/>\n",
    "\n",
    "In this task\n",
    "\n",
    "- Create a summary of the number of themes shipped by year.\n",
    "- Save it as a `DataFrame` named `themes_by_year`.\n",
    "- Print the first couple of rows in `themes_by_year`.\n",
    "\n",
    "The first few rows of your data should resemble the table shown below.\n",
    "\n",
    "|year|theme_id|\n",
    "|---:|-------:|\n",
    "|1950|       2|\n",
    "|1953|       1|\n",
    "|1954|       2|\n",
    "|1955|       4|\n",
    "|1956|       3|"
   ]
  },
  {
   "cell_type": "code",
   "execution_count": 54,
   "metadata": {},
   "outputs": [
    {
     "name": "stdout",
     "output_type": "stream",
     "text": [
      "|year|theme_id|\n",
      "|---:|-------:|\n",
      "|1950|       2|\n",
      "|1953|       1|\n",
      "|1954|       2|\n",
      "|1955|       4|\n",
      "|1956|       3|\n",
      "\n"
     ]
    }
   ],
   "source": [
    "\n",
    "df_to_md(themes_by_year.head())"
   ]
  },
  {
   "cell_type": "code",
   "execution_count": 55,
   "metadata": {
    "collapsed": true,
    "tags": [
     "@sample_code"
    ]
   },
   "outputs": [],
   "source": [
    "# themes_by_year: Number of themes shipped by year\n",
    "# -- YOUR CODE HERE --"
   ]
  },
  {
   "cell_type": "markdown",
   "metadata": {
    "tags": [
     "@hint"
    ]
   },
   "source": [
    "Shown below is some code to help you complete this task:\n",
    "\n",
    "```python\n",
    "themes_by_year = sets[[___, ___]].\\\n",
    "  ___(___, as_index = False).\\\n",
    "  agg({\"theme_id\": pd.Series.___})\n",
    "themes_by_year.___()\n",
    "```"
   ]
  },
  {
   "cell_type": "markdown",
   "metadata": {
    "tags": [
     "type:NotebookTask",
     "key:a293e5076e"
    ]
   },
   "source": [
    "## Wrapping It All Up!"
   ]
  },
  {
   "cell_type": "markdown",
   "metadata": {
    "tags": [
     "@context"
    ]
   },
   "source": [
    "Lego blocks offer an unlimited amoung of fun across ages. We explored some interesting trends around colors, parts and themes. "
   ]
  },
  {
   "cell_type": "code",
   "execution_count": 56,
   "metadata": {
    "collapsed": true,
    "tags": [
     "@solution"
    ]
   },
   "outputs": [],
   "source": [
    "# Nothing to do here"
   ]
  },
  {
   "cell_type": "code",
   "execution_count": 57,
   "metadata": {
    "collapsed": true,
    "tags": [
     "@tests"
    ]
   },
   "outputs": [
    {
     "data": {
      "application/json": "{\"success\": true, \"summary\": {\"tests\": 1, \"failures\": 0, \"errors\": 0}, \"tests\": [{\"name\": \"test_default\", \"success\": true, \"message\": \"\"}]}"
     },
     "metadata": {},
     "output_type": "display_data"
    },
    {
     "data": {
      "text/plain": [
       "1/1 tests passed\n"
      ]
     },
     "execution_count": 57,
     "metadata": {},
     "output_type": "execute_result"
    }
   ],
   "source": [
    "%%nose\n",
    "def test_default():\n",
    "  assert True"
   ]
  },
  {
   "cell_type": "markdown",
   "metadata": {
    "tags": [
     "@instructions"
    ]
   },
   "source": [
    "Congratulations on completing your tasks successfully! How did it feel seeing the circle turn green? Pretty awesome right?\n",
    "\n",
    "![success](https://s3.amazonaws.com/assets.datacamp.com/projects/lego/success-large.gif)\n",
    "\n",
    "You are now ready to get started with your first project. Read this [comprehensive guide](https://www.datacamp.com/community/tutorials/tutorial-jupyter-notebook) to learn more about how to work with Jupyter Notebooks."
   ]
  },
  {
   "cell_type": "code",
   "execution_count": 58,
   "metadata": {
    "collapsed": true,
    "tags": [
     "@sample_code"
    ]
   },
   "outputs": [],
   "source": [
    "# Nothing to do here"
   ]
  },
  {
   "cell_type": "markdown",
   "metadata": {
    "tags": [
     "@hint"
    ]
   },
   "source": [
    "You don't need help with this one!"
   ]
  }
 ],
 "metadata": {
  "celltoolbar": "Tags",
  "kernel_info": {
   "name": "python3"
  },
  "kernelspec": {
   "display_name": "Python 3",
   "language": "python",
   "name": "python3"
  },
  "language_info": {
   "codemirror_mode": {
    "name": "ipython",
    "version": 3
   },
   "file_extension": ".py",
   "mimetype": "text/x-python",
   "name": "python",
   "nbconvert_exporter": "python",
   "pygments_lexer": "ipython3",
   "version": "3.6.2"
  }
 },
 "nbformat": 4,
 "nbformat_minor": 4
}
